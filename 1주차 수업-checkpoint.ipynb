{
 "cells": [
  {
   "cell_type": "code",
   "execution_count": null,
   "id": "a2fb4f11-cdb1-4a78-b4ba-98719e01e0a9",
   "metadata": {},
   "outputs": [],
   "source": []
  },
  {
   "cell_type": "markdown",
   "id": "654e5c1c-ba5f-49b0-a15c-769a9e6186ca",
   "metadata": {},
   "source": [
    "# First Classs"
   ]
  },
  {
   "cell_type": "code",
   "execution_count": 11,
   "id": "a4b66e54-da69-4068-9825-9e0d3f1ac2c5",
   "metadata": {},
   "outputs": [
    {
     "name": "stdout",
     "output_type": "stream",
     "text": [
      "1\n",
      "<class 'int'>\n",
      "1.1\n",
      "<class 'float'>\n",
      "python\n",
      "<class 'str'>\n",
      "[1, 2, 3, 4, 5]\n",
      "<class 'list'>\n"
     ]
    }
   ],
   "source": [
    "# 변수\n",
    "\n",
    "a=1 #정수\n",
    "print(a)\n",
    "print(type(a))\n",
    "\n",
    "a1= 1.1 #실수\n",
    "print(a1)\n",
    "print(type(a1))\n",
    "\n",
    "b= \"python\" #문자\n",
    "print(b)\n",
    "print(type(b))\n",
    "\n",
    "c=[1,2,3,4,5] #리스트\n",
    "print(c)\n",
    "print(type(c))"
   ]
  },
  {
   "cell_type": "code",
   "execution_count": 25,
   "id": "c36ef3a6-d422-4b9c-948d-91b0867862d6",
   "metadata": {},
   "outputs": [
    {
     "name": "stdout",
     "output_type": "stream",
     "text": [
      "{'name': '홍길동', 'email': 'hong@mail.com'}\n",
      "<class 'dict'>\n",
      "[[1, 2, 3, 4, 5], [1, 2, 3, 4, 5], [1, 2, 3, 4, 5]]\n",
      "<class 'list'>\n"
     ]
    }
   ],
   "source": [
    "d = {\"name\": \"홍길동\", \"email\": \"hong@mail.com\"} #딕셔너리\n",
    "print(d)\n",
    "print(type(d))\n",
    "\n",
    "e= [[1,2,3,4,5], [1,2,3,4,5], [1,2,3,4,5]] #리스트는 연산 불가\n",
    "print (e)\n",
    "print (type(e))"
   ]
  },
  {
   "cell_type": "code",
   "execution_count": 27,
   "id": "8497df9f-a071-4c96-b1cc-de2147695bec",
   "metadata": {},
   "outputs": [
    {
     "name": "stdout",
     "output_type": "stream",
     "text": [
      "[[1 2 3 4 5]\n",
      " [1 2 3 4 5]\n",
      " [1 2 3 4 5]]\n",
      "<class 'numpy.ndarray'>\n",
      "(3, 5)\n"
     ]
    }
   ],
   "source": [
    "import numpy as np\n",
    "f= np.array(e) # 배열(array)는 list와 비슷하지만, 행렬연산 가능하고, 데이터 처리속도가 빠름\n",
    "print (f)\n",
    "print (type(f))\n",
    "print (f.shape)"
   ]
  },
  {
   "cell_type": "code",
   "execution_count": 21,
   "id": "545588fe-5666-4226-a4aa-2077cbf2aec7",
   "metadata": {},
   "outputs": [
    {
     "name": "stdout",
     "output_type": "stream",
     "text": [
      "Requirement already satisfied: numpy in c:\\users\\yeongchan\\anaconda3\\lib\\site-packages (1.26.4)\n",
      "Note: you may need to restart the kernel to use updated packages.\n"
     ]
    }
   ],
   "source": [
    "pip install numpy"
   ]
  },
  {
   "cell_type": "code",
   "execution_count": 29,
   "id": "07734387-4cec-494b-9e51-fc07b9ba0298",
   "metadata": {},
   "outputs": [
    {
     "name": "stdout",
     "output_type": "stream",
     "text": [
      "   A  B  C  D  E\n",
      "0  1  2  3  4  5\n",
      "1  1  2  3  4  5\n",
      "2  1  2  3  4  5\n",
      "<class 'pandas.core.frame.DataFrame'>\n",
      "(3, 5)\n"
     ]
    }
   ],
   "source": [
    "import pandas as pd\n",
    "g = pd.DataFrame(f, columns=['A', 'B', 'C', 'D', 'E']) #array에 부가적이니 기능 부여하여 엑셀 변환가능\n",
    "print(g)\n",
    "print(type(g))\n",
    "print(g.shape)"
   ]
  },
  {
   "cell_type": "code",
   "execution_count": 31,
   "id": "9e2243af-622d-4bab-9244-b856e2868022",
   "metadata": {},
   "outputs": [
    {
     "data": {
      "text/html": [
       "<div>\n",
       "<style scoped>\n",
       "    .dataframe tbody tr th:only-of-type {\n",
       "        vertical-align: middle;\n",
       "    }\n",
       "\n",
       "    .dataframe tbody tr th {\n",
       "        vertical-align: top;\n",
       "    }\n",
       "\n",
       "    .dataframe thead th {\n",
       "        text-align: right;\n",
       "    }\n",
       "</style>\n",
       "<table border=\"1\" class=\"dataframe\">\n",
       "  <thead>\n",
       "    <tr style=\"text-align: right;\">\n",
       "      <th></th>\n",
       "      <th>A</th>\n",
       "      <th>B</th>\n",
       "      <th>C</th>\n",
       "      <th>D</th>\n",
       "      <th>E</th>\n",
       "    </tr>\n",
       "  </thead>\n",
       "  <tbody>\n",
       "    <tr>\n",
       "      <th>0</th>\n",
       "      <td>1</td>\n",
       "      <td>2</td>\n",
       "      <td>3</td>\n",
       "      <td>4</td>\n",
       "      <td>5</td>\n",
       "    </tr>\n",
       "    <tr>\n",
       "      <th>1</th>\n",
       "      <td>1</td>\n",
       "      <td>2</td>\n",
       "      <td>3</td>\n",
       "      <td>4</td>\n",
       "      <td>5</td>\n",
       "    </tr>\n",
       "    <tr>\n",
       "      <th>2</th>\n",
       "      <td>1</td>\n",
       "      <td>2</td>\n",
       "      <td>3</td>\n",
       "      <td>4</td>\n",
       "      <td>5</td>\n",
       "    </tr>\n",
       "  </tbody>\n",
       "</table>\n",
       "</div>"
      ],
      "text/plain": [
       "   A  B  C  D  E\n",
       "0  1  2  3  4  5\n",
       "1  1  2  3  4  5\n",
       "2  1  2  3  4  5"
      ]
     },
     "execution_count": 31,
     "metadata": {},
     "output_type": "execute_result"
    }
   ],
   "source": [
    "g"
   ]
  },
  {
   "cell_type": "code",
   "execution_count": 55,
   "id": "69497808-0871-43bf-8414-1014df94137e",
   "metadata": {},
   "outputs": [
    {
     "name": "stdout",
     "output_type": "stream",
     "text": [
      "9\n",
      "3\n",
      "18\n",
      "2.0\n",
      "216\n",
      "2\n",
      "0\n"
     ]
    }
   ],
   "source": [
    "a=6\n",
    "b=3\n",
    "\n",
    "print(a+b)\n",
    "print(a-b)\n",
    "print(a*b)\n",
    "print(a/b)\n",
    "\n",
    "print(a**b) #제곱 a의b제곱  6의 3제곱\n",
    "print(a//b) #몫\n",
    "print(a%b) #나머지"
   ]
  },
  {
   "cell_type": "code",
   "execution_count": 61,
   "id": "6b7a27e9-e217-4381-9679-10ba8e405538",
   "metadata": {},
   "outputs": [
    {
     "name": "stdout",
     "output_type": "stream",
     "text": [
      "6 + 3 = 9\n",
      "1.567000 + 3.567000 = 5.134000\n",
      "1.57 + 3.57 = 5.134\n",
      "1.57\n"
     ]
    },
    {
     "name": "stdin",
     "output_type": "stream",
     "text": [
      "숫자를 입력하시오 14\n"
     ]
    },
    {
     "name": "stdout",
     "output_type": "stream",
     "text": [
      "입력한 숫자는: 14\n"
     ]
    }
   ],
   "source": [
    "print('%d + %d = %d' %(a, b, a+b)) # %는 %d= 뒤에 %(a,b,a+b)를 불러오는 뜻임\n",
    "a1,b1, = 1.567, 3.567\n",
    "print('%f + %f = %f' %(a1, b1, a1+b1))\n",
    "print('%.2f + %.2f = %.3f' %(a1, b1, a1+b1))\n",
    "print(round(a1,2))\n",
    "\n",
    "c= input('숫자를 입력하시오')\n",
    "print( '입력한 숫자는:', c)"
   ]
  },
  {
   "cell_type": "code",
   "execution_count": 81,
   "id": "e870fa55-2fd5-45e4-82eb-8b3739f60e53",
   "metadata": {},
   "outputs": [
    {
     "name": "stdout",
     "output_type": "stream",
     "text": [
      "DavidStudent\n",
      "David Student\n"
     ]
    }
   ],
   "source": [
    "name= \"David\"\n",
    "title= \"Student\"\n",
    "print(name+title)\n",
    "print(name+\" \"+title)"
   ]
  },
  {
   "cell_type": "code",
   "execution_count": 85,
   "id": "deb3634b-ea5e-4551-9b2c-a5ddb5c8ce7e",
   "metadata": {},
   "outputs": [
    {
     "name": "stdout",
     "output_type": "stream",
     "text": [
      "David 20\n",
      "I know David is a 20\n",
      "I know David is a 20\n",
      "I know David is a 20.000000\n",
      "I know David is a 20.0\n"
     ]
    }
   ],
   "source": [
    "name = \"David\"\n",
    "age = 20\n",
    "\n",
    "print(name, age)\n",
    "print(\"I know {0} is a {1}\".format(name, age))\n",
    "print(f\"I know {name} is a {age}\")\n",
    "print('I know %s is a %f' %(name, age))\n",
    "print('I know %s is a %.1f' %(name, age))"
   ]
  },
  {
   "cell_type": "code",
   "execution_count": 95,
   "id": "524e36e9-e34c-4e92-818b-a4d924d9b1e1",
   "metadata": {},
   "outputs": [
    {
     "name": "stdout",
     "output_type": "stream",
     "text": [
      "7\n",
      "S\n",
      "t\n",
      "d\n"
     ]
    }
   ],
   "source": [
    "title = \"Student\"\n",
    "print(len(title))\n",
    "print (title[0])\n",
    "print (title[-1])\n",
    "print (title[-4])"
   ]
  },
  {
   "cell_type": "code",
   "execution_count": 107,
   "id": "b55513f6-a41b-4c75-bebb-c3e14e4b214f",
   "metadata": {},
   "outputs": [
    {
     "name": "stdout",
     "output_type": "stream",
     "text": [
      "Stude\n"
     ]
    }
   ],
   "source": [
    "print (title[:-2])"
   ]
  },
  {
   "cell_type": "code",
   "execution_count": 115,
   "id": "846ab295-94e1-4b92-ba83-247043ff3db2",
   "metadata": {},
   "outputs": [
    {
     "name": "stdout",
     "output_type": "stream",
     "text": [
      "5\n",
      "1\n",
      "15\n"
     ]
    }
   ],
   "source": [
    "list2 = [1,2,3,4,5]\n",
    "print (max(list2))\n",
    "print (min(list2))\n",
    "print (sum(list2))"
   ]
  },
  {
   "cell_type": "code",
   "execution_count": 117,
   "id": "24eedff1-a3fc-4be7-8042-3b078e84e2a8",
   "metadata": {},
   "outputs": [
    {
     "name": "stdout",
     "output_type": "stream",
     "text": [
      "3.0\n"
     ]
    }
   ],
   "source": [
    "print(sum(list2)/len(list2))"
   ]
  },
  {
   "cell_type": "code",
   "execution_count": 125,
   "id": "d4c1d5bc-02c7-489a-8d38-b44762e09390",
   "metadata": {},
   "outputs": [
    {
     "name": "stdout",
     "output_type": "stream",
     "text": [
      "{'Jenny': 20, 'Ella': 31}\n",
      "{'Jenny': 20, 'Ella': 31, 'John': 26, 'Tom': 29}\n",
      "29\n",
      "dict_keys(['Jenny', 'Ella', 'John', 'Tom'])\n",
      "dict_values([20, 31, 26, 29])\n",
      "Jenny 20\n",
      "Ella 31\n",
      "John 26\n",
      "Tom 29\n",
      "0 Jenny 20\n",
      "1 Ella 31\n",
      "2 John 26\n",
      "3 Tom 29\n"
     ]
    }
   ],
   "source": [
    "#딕셔너리\n",
    "\n",
    "dict1 = {\"Jenny\":20, \"Ella\":31}\n",
    "print(dict1)\n",
    "\n",
    "dict1[\"John\"]=26\n",
    "dict1['Tom']=29\n",
    "print(dict1)\n",
    "\n",
    "print(dict1[\"Tom\"])\n",
    "print(dict1.keys())\n",
    "print(dict1.values())\n",
    "\n",
    "for key, value in dict1.items():\n",
    "    print(key, value)\n",
    "\n",
    "for i, name in enumerate (dict1.keys()): # 반복문 사용\n",
    "    print(i, name, dict1[name])\n"
   ]
  },
  {
   "cell_type": "markdown",
   "id": "3da07d45-eae0-4d72-811c-e689d981ea72",
   "metadata": {},
   "source": [
    "### if 문"
   ]
  },
  {
   "cell_type": "code",
   "execution_count": 128,
   "id": "75951639-9a23-45bb-a115-4c9ae9e805f9",
   "metadata": {},
   "outputs": [
    {
     "name": "stdout",
     "output_type": "stream",
     "text": [
      "초급반 수강하세요\n"
     ]
    }
   ],
   "source": [
    "basic = 40\n",
    "intermediate =70\n",
    "advanced = 100\n",
    "score = 10\n",
    "\n",
    "if score <= basic:\n",
    "    print (\"초급반 수강하세요\")\n",
    "elif score <= intermediate:\n",
    "    print (\"중급반 수강하세요\")\n",
    "elif score <= advanced:\n",
    "    print (\"고급반 수강하세요\")\n",
    "else:\n",
    "    print(\"점수 확인하세요\")"
   ]
  },
  {
   "cell_type": "code",
   "execution_count": 136,
   "id": "c63b600b-4510-4dd7-97ba-c0e0b1377883",
   "metadata": {},
   "outputs": [
    {
     "name": "stdin",
     "output_type": "stream",
     "text": [
      "점수는? 90\n"
     ]
    },
    {
     "name": "stdout",
     "output_type": "stream",
     "text": [
      "고급반 수강하세요\n"
     ]
    }
   ],
   "source": [
    "basic = 40\n",
    "intermediate =70\n",
    "advanced = 100\n",
    "score = float(input(\"점수는?\"))\n",
    "\n",
    "if score <= basic:\n",
    "    print (\"초급반 수강하세요\")\n",
    "elif score <= intermediate:\n",
    "    print (\"중급반 수강하세요\")\n",
    "elif score <= advanced:\n",
    "    print (\"고급반 수강하세요\")\n",
    "else:\n",
    "    print(\"점수 확인하세요\")"
   ]
  },
  {
   "cell_type": "markdown",
   "id": "e769812c-28e6-440b-ab0c-f126363c7e26",
   "metadata": {},
   "source": [
    "### for 문\n"
   ]
  },
  {
   "cell_type": "code",
   "execution_count": 143,
   "id": "09a39da2-0e13-48a2-b2a6-fc2fb253e971",
   "metadata": {},
   "outputs": [
    {
     "name": "stdout",
     "output_type": "stream",
     "text": [
      "1\n",
      "1\n",
      "1\n",
      "1\n",
      "1\n",
      "1\n",
      "1\n",
      "1\n",
      "1\n",
      "1\n",
      "==============================\n",
      "2\n",
      "3\n",
      "4\n",
      "5\n",
      "6\n",
      "7\n",
      "8\n",
      "9\n",
      "==============================\n",
      "2* 1 = 2\n",
      "2* 2 = 4\n",
      "2* 3 = 6\n",
      "2* 4 = 8\n",
      "2* 5 = 10\n",
      "2* 6 = 12\n",
      "2* 7 = 14\n",
      "2* 8 = 16\n",
      "2* 9 = 18\n",
      "==============================\n",
      "2 * 1 = 2\n",
      "2 * 2 = 4\n",
      "2 * 3 = 6\n",
      "2 * 4 = 8\n",
      "2 * 5 = 10\n",
      "2 * 6 = 12\n",
      "2 * 7 = 14\n",
      "2 * 8 = 16\n",
      "2 * 9 = 18\n",
      "3 * 1 = 3\n",
      "3 * 2 = 6\n",
      "3 * 3 = 9\n",
      "3 * 4 = 12\n",
      "3 * 5 = 15\n",
      "3 * 6 = 18\n",
      "3 * 7 = 21\n",
      "3 * 8 = 24\n",
      "3 * 9 = 27\n",
      "4 * 1 = 4\n",
      "4 * 2 = 8\n",
      "4 * 3 = 12\n",
      "4 * 4 = 16\n",
      "4 * 5 = 20\n",
      "4 * 6 = 24\n",
      "4 * 7 = 28\n",
      "4 * 8 = 32\n",
      "4 * 9 = 36\n",
      "5 * 1 = 5\n",
      "5 * 2 = 10\n",
      "5 * 3 = 15\n",
      "5 * 4 = 20\n",
      "5 * 5 = 25\n",
      "5 * 6 = 30\n",
      "5 * 7 = 35\n",
      "5 * 8 = 40\n",
      "5 * 9 = 45\n",
      "6 * 1 = 6\n",
      "6 * 2 = 12\n",
      "6 * 3 = 18\n",
      "6 * 4 = 24\n",
      "6 * 5 = 30\n",
      "6 * 6 = 36\n",
      "6 * 7 = 42\n",
      "6 * 8 = 48\n",
      "6 * 9 = 54\n",
      "7 * 1 = 7\n",
      "7 * 2 = 14\n",
      "7 * 3 = 21\n",
      "7 * 4 = 28\n",
      "7 * 5 = 35\n",
      "7 * 6 = 42\n",
      "7 * 7 = 49\n",
      "7 * 8 = 56\n",
      "7 * 9 = 63\n",
      "8 * 1 = 8\n",
      "8 * 2 = 16\n",
      "8 * 3 = 24\n",
      "8 * 4 = 32\n",
      "8 * 5 = 40\n",
      "8 * 6 = 48\n",
      "8 * 7 = 56\n",
      "8 * 8 = 64\n",
      "8 * 9 = 72\n",
      "9 * 1 = 9\n",
      "9 * 2 = 18\n",
      "9 * 3 = 27\n",
      "9 * 4 = 36\n",
      "9 * 5 = 45\n",
      "9 * 6 = 54\n",
      "9 * 7 = 63\n",
      "9 * 8 = 72\n",
      "9 * 9 = 81\n",
      "==============================\n",
      "1 번 학생은 합격\n",
      "2번 학생은 불합격\n",
      "3 번 학생은 합격\n",
      "4번 학생은 불합격\n",
      "5 번 학생은 합격\n",
      "********************\n"
     ]
    }
   ],
   "source": [
    "for i in range(10):\n",
    "    print(1)\n",
    "print('='*30)\n",
    "\n",
    "for i in range(2,10):\n",
    "    print (i)\n",
    "print ('='*30)\n",
    "\n",
    "for i in range(1, 10):\n",
    "    print (\"2* %d = %d\" %(i, 2*i))\n",
    "print('='*30)\n",
    "\n",
    "# 예제) 2= 9 단까지 출력\n",
    "for i in range(2,10):\n",
    "    for j in range (1,10):\n",
    "        print('%d * %d = %d' %(i, j, i*j))\n",
    "        #print(f\"{i} * {j} = {i*j}\", end = \" \")\n",
    "    #print (\"\")\n",
    "\n",
    "print ( '='*30)\n",
    "\n",
    "marks = [90, 25, 67, 45, 80]\n",
    "number = 0\n",
    "for mark in marks:\n",
    "    number += 1\n",
    "    if mark > 60:\n",
    "        print( \"%d 번 학생은 합격\" % number)\n",
    "    else:\n",
    "        print( \"%d번 학생은 불합격\" % number)\n",
    "\n",
    "print(\"*\"*20)"
   ]
  },
  {
   "cell_type": "code",
   "execution_count": 145,
   "id": "7f461473-6d2c-4139-b8a4-814fd895eb78",
   "metadata": {},
   "outputs": [
    {
     "name": "stdout",
     "output_type": "stream",
     "text": [
      "2\n",
      "4\n",
      "6\n",
      "********************\n"
     ]
    }
   ],
   "source": [
    "# 짝수만 골라 프린트하기\n",
    "a= [1,2,3,4,5,6]\n",
    "for num in a:\n",
    "    if num % 2 ==0:\n",
    "        print (num)\n",
    "\n",
    "print (\"*\"*20)"
   ]
  },
  {
   "cell_type": "code",
   "execution_count": 151,
   "id": "d2ecbefc-7264-4967-920a-22a6590b517e",
   "metadata": {},
   "outputs": [
    {
     "name": "stdout",
     "output_type": "stream",
     "text": [
      "[2, 4, 6]\n",
      "==============================\n",
      "0 번째 숫자:  1\n",
      "1 번째 숫자:  2\n",
      "2 번째 숫자:  3\n",
      "3 번째 숫자:  4\n",
      "4 번째 숫자:  5\n",
      "5 번째 숫자:  6\n",
      "==============================\n",
      "0 Jenny 20\n",
      "1 Ella 31\n",
      "2 John 17\n"
     ]
    }
   ],
   "source": [
    "res = []\n",
    "a= [1,2,3,4,5,6]\n",
    "for num in a:\n",
    "    if num % 2 ==0:\n",
    "        res.append(num)\n",
    "print(res)\n",
    "\n",
    "print('='*30)\n",
    "\n",
    "for i, num in enumerate(a):\n",
    "    print (i, '번째 숫자: ', num)\n",
    "\n",
    "print('='*30)\n",
    "\n",
    "dict1 = {\"Jenny\":20, \"Ella\":31, \"John\":17 }\n",
    "for i, name in enumerate (dict1.keys()):\n",
    "    print(i, name, dict1[name])"
   ]
  },
  {
   "cell_type": "markdown",
   "id": "d1fbe999-77a4-4348-b29b-858682d87310",
   "metadata": {},
   "source": [
    "### While"
   ]
  },
  {
   "cell_type": "code",
   "execution_count": 154,
   "id": "aca66eca-1a9c-4a04-83b8-7b02eeca5439",
   "metadata": {},
   "outputs": [
    {
     "name": "stdout",
     "output_type": "stream",
     "text": [
      "1\n",
      "2\n",
      "3\n",
      "4\n",
      "5\n",
      "6\n",
      "7\n",
      "8\n",
      "9\n",
      "10\n",
      "==============================\n",
      "2 x 1 = 2 \n",
      "2 x 2 = 4 \n",
      "2 x 3 = 6 \n",
      "2 x 4 = 8 \n",
      "2 x 5 = 10 \n",
      "2 x 6 = 12 \n",
      "2 x 7 = 14 \n",
      "2 x 8 = 16 \n",
      "2 x 9 = 18 \n"
     ]
    }
   ],
   "source": [
    "count = 0\n",
    "while count < 10:\n",
    "    count += 1\n",
    "    print(count)\n",
    "\n",
    "print ('='*30)\n",
    "\n",
    "#구구단 중 2단 프린트하기\n",
    "i = 1 \n",
    "while i < 10:\n",
    "    print ('2 x %d = %d ' %(i, i*2))\n",
    "    i +=1"
   ]
  },
  {
   "cell_type": "code",
   "execution_count": 162,
   "id": "97f9c618-00b7-458c-89ba-28ab3c997747",
   "metadata": {},
   "outputs": [
    {
     "name": "stdout",
     "output_type": "stream",
     "text": [
      "8\n",
      "==============================\n",
      "8\n",
      "15\n",
      "(8, 15)\n",
      "==============================\n",
      "60\n",
      "100\n",
      "==============================\n",
      "100\n",
      "100\n",
      "30\n"
     ]
    }
   ],
   "source": [
    "# 함수 (function)\n",
    "\n",
    "def sum(a, b):\n",
    "    s = a+b\n",
    "    return s\n",
    "\n",
    "print (sum(3,5))\n",
    "\n",
    "print('='*30)\n",
    "\n",
    "def sum_and_mul(a,b): #리턴 값이 2개 이상일 수도 잇음\n",
    "    return a+b, a*b\n",
    "\n",
    "\n",
    "s, m= sum_and_mul(3,5)\n",
    "print (s)\n",
    "print (m)\n",
    "print (sum_and_mul(3,5))\n",
    "\n",
    "print ('='*30)\n",
    "\n",
    "# *args: 변수의 숫자가 몇개일지 모를때\n",
    "\n",
    "def sum(*args):\n",
    "    total = 0\n",
    "    for num in args:\n",
    "        total +=num\n",
    "    return total\n",
    "result1 = sum(10, 20, 30)\n",
    "print (result1)\n",
    "result2 = sum(10, 20, 30, 40)\n",
    "print (result2)\n",
    "\n",
    "print ('='*30)\n",
    "\n",
    "#Lambda '이름없는 함수'를 표현 시\n",
    "\n",
    "def f(x):\n",
    "    return x**2\n",
    "result1=f(10)\n",
    "print(result1)\n",
    "\n",
    "#위 함수를 lambda로 표시(좀 더 간단히 표현 가능)\n",
    "func = lambda x: x**2\n",
    "result2 = func(10)\n",
    "print (result2)\n",
    "\n",
    "print ((lambda x, y: x+y)(10,20)) #매게 변수가 없는 함수"
   ]
  },
  {
   "cell_type": "code",
   "execution_count": null,
   "id": "b6d613ee-5e11-4ac5-8732-ca2ad7faab3f",
   "metadata": {},
   "outputs": [],
   "source": []
  }
 ],
 "metadata": {
  "kernelspec": {
   "display_name": "Python 3 (ipykernel)",
   "language": "python",
   "name": "python3"
  },
  "language_info": {
   "codemirror_mode": {
    "name": "ipython",
    "version": 3
   },
   "file_extension": ".py",
   "mimetype": "text/x-python",
   "name": "python",
   "nbconvert_exporter": "python",
   "pygments_lexer": "ipython3",
   "version": "3.11.7"
  }
 },
 "nbformat": 4,
 "nbformat_minor": 5
}
